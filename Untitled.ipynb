{
 "cells": [
  {
   "cell_type": "code",
   "execution_count": 1,
   "metadata": {},
   "outputs": [
    {
     "ename": "SyntaxError",
     "evalue": "invalid syntax (<ipython-input-1-816e789a96c3>, line 1)",
     "output_type": "error",
     "traceback": [
      "\u001b[1;36m  File \u001b[1;32m\"<ipython-input-1-816e789a96c3>\"\u001b[1;36m, line \u001b[1;32m1\u001b[0m\n\u001b[1;33m    pip install beautifulsoup4\u001b[0m\n\u001b[1;37m              ^\u001b[0m\n\u001b[1;31mSyntaxError\u001b[0m\u001b[1;31m:\u001b[0m invalid syntax\n"
     ]
    }
   ],
   "source": [
    "pip install beautifulsoup4\n",
    "pip install google\n"
   ]
  },
  {
   "cell_type": "code",
   "execution_count": 2,
   "metadata": {},
   "outputs": [
    {
     "name": "stdout",
     "output_type": "stream",
     "text": [
      "Requirement already satisfied: beautifulsoup4 in c:\\users\\public\\anaconda3\\lib\\site-packages (4.7.1)\n",
      "Requirement already satisfied: soupsieve>=1.2 in c:\\users\\public\\anaconda3\\lib\\site-packages (from beautifulsoup4) (1.8)\n",
      "Note: you may need to restart the kernel to use updated packages.\n"
     ]
    }
   ],
   "source": [
    "pip install beautifulsoup4"
   ]
  },
  {
   "cell_type": "code",
   "execution_count": 3,
   "metadata": {},
   "outputs": [
    {
     "name": "stdout",
     "output_type": "stream",
     "text": [
      "Requirement already satisfied: google in c:\\users\\public\\anaconda3\\lib\\site-packages (3.0.0)\n",
      "Requirement already satisfied: beautifulsoup4 in c:\\users\\public\\anaconda3\\lib\\site-packages (from google) (4.7.1)\n",
      "Requirement already satisfied: soupsieve>=1.2 in c:\\users\\public\\anaconda3\\lib\\site-packages (from beautifulsoup4->google) (1.8)\n",
      "Note: you may need to restart the kernel to use updated packages.\n"
     ]
    }
   ],
   "source": [
    "pip install google"
   ]
  },
  {
   "cell_type": "code",
   "execution_count": 4,
   "metadata": {},
   "outputs": [
    {
     "name": "stdout",
     "output_type": "stream",
     "text": [
      "Collecting chatterbot\n",
      "  Using cached https://files.pythonhosted.org/packages/12/b7/d8a034fbef04cb50fc7a9f5c6b6d27f1db186ffd58f66d7301e16abfd9ca/ChatterBot-1.1.0-py2.py3-none-any.whl\n",
      "Collecting spacy<2.2,>=2.1 (from chatterbot)\n",
      "  Using cached https://files.pythonhosted.org/packages/41/ef/b6526a755050ddd937ef88e4a969ed9ba6854f3dd792516a692aad4bb6a7/spacy-2.1.9-cp37-cp37m-win_amd64.whl\n",
      "Requirement already satisfied: nltk<4.0,>=3.2 in c:\\users\\public\\anaconda3\\lib\\site-packages (from chatterbot) (3.4)\n",
      "Requirement already satisfied: mathparse<0.2,>=0.1 in c:\\users\\public\\anaconda3\\lib\\site-packages (from chatterbot) (0.1.2)\n",
      "Collecting pyyaml<5.4,>=5.3 (from chatterbot)\n",
      "  Using cached https://files.pythonhosted.org/packages/fb/aa/1a7ac452c52b93ab759d0b5b81c901ea122d95a5abf429decc660a44a2f1/PyYAML-5.3.1-cp37-cp37m-win_amd64.whl\n",
      "Requirement already satisfied: pytz in c:\\users\\public\\anaconda3\\lib\\site-packages (from chatterbot) (2018.9)\n",
      "Requirement already satisfied: python-dateutil<2.9,>=2.8 in c:\\users\\public\\anaconda3\\lib\\site-packages (from chatterbot) (2.8.0)\n",
      "Requirement already satisfied: sqlalchemy<1.4,>=1.3 in c:\\users\\public\\anaconda3\\lib\\site-packages (from chatterbot) (1.3.1)\n",
      "Collecting pint>=0.8.1 (from chatterbot)\n",
      "  Using cached https://files.pythonhosted.org/packages/33/de/53a77b82553579affab7438d299f850acbc1c4dd741c5ce52594513cb0ef/Pint-0.17-py2.py3-none-any.whl\n",
      "Requirement already satisfied: murmurhash<1.1.0,>=0.28.0 in c:\\users\\public\\anaconda3\\lib\\site-packages (from spacy<2.2,>=2.1->chatterbot) (1.0.2)\n",
      "Collecting srsly<1.1.0,>=0.0.6 (from spacy<2.2,>=2.1->chatterbot)\n",
      "  Using cached https://files.pythonhosted.org/packages/34/9d/23daf512877cc4a60e60d407926c69c01f91d8aa99fbc4177919f490dbd1/srsly-1.0.5-cp37-cp37m-win_amd64.whl\n",
      "Collecting wasabi<1.1.0,>=0.2.0 (from spacy<2.2,>=2.1->chatterbot)\n",
      "  Using cached https://files.pythonhosted.org/packages/a6/1d/d281571b4c3b20fff183b485c6673c62878727119a849c7932651a8b5060/wasabi-0.8.2-py3-none-any.whl\n",
      "Requirement already satisfied: preshed<2.1.0,>=2.0.1 in c:\\users\\public\\anaconda3\\lib\\site-packages (from spacy<2.2,>=2.1->chatterbot) (2.0.1)\n",
      "Collecting thinc<7.1.0,>=7.0.8 (from spacy<2.2,>=2.1->chatterbot)\n",
      "  Using cached https://files.pythonhosted.org/packages/20/16/96f6c0a4301f392077c67831639e8e614e2adf45185ee6a1c6a3f0ab2299/thinc-7.0.8-cp37-cp37m-win_amd64.whl\n",
      "Requirement already satisfied: requests<3.0.0,>=2.13.0 in c:\\users\\public\\anaconda3\\lib\\site-packages (from spacy<2.2,>=2.1->chatterbot) (2.18.4)\n",
      "Requirement already satisfied: plac<1.0.0,>=0.9.6 in c:\\users\\public\\anaconda3\\lib\\site-packages (from spacy<2.2,>=2.1->chatterbot) (0.9.6)\n",
      "Requirement already satisfied: cymem<2.1.0,>=2.0.2 in c:\\users\\public\\anaconda3\\lib\\site-packages (from spacy<2.2,>=2.1->chatterbot) (2.0.2)\n",
      "Requirement already satisfied: numpy>=1.15.0 in c:\\users\\public\\anaconda3\\lib\\site-packages (from spacy<2.2,>=2.1->chatterbot) (1.17.2)\n",
      "Collecting blis<0.3.0,>=0.2.2 (from spacy<2.2,>=2.1->chatterbot)\n",
      "  Using cached https://files.pythonhosted.org/packages/5e/94/9da0eff97411b3e85933e8b955d2ffd353f97b65372a2861e57d59d9ad5d/blis-0.2.4-cp37-cp37m-win_amd64.whl\n",
      "Requirement already satisfied: six in c:\\users\\public\\anaconda3\\lib\\site-packages (from nltk<4.0,>=3.2->chatterbot) (1.12.0)\n",
      "Requirement already satisfied: singledispatch in c:\\users\\public\\anaconda3\\lib\\site-packages (from nltk<4.0,>=3.2->chatterbot) (3.4.0.3)\n",
      "Requirement already satisfied: importlib-metadata; python_version < \"3.8\" in c:\\users\\public\\anaconda3\\lib\\site-packages (from pint>=0.8.1->chatterbot) (0.0.0)\n",
      "Requirement already satisfied: packaging in c:\\users\\public\\anaconda3\\lib\\site-packages (from pint>=0.8.1->chatterbot) (19.0)\n",
      "Requirement already satisfied: tqdm<5.0.0,>=4.10.0 in c:\\users\\public\\anaconda3\\lib\\site-packages (from thinc<7.1.0,>=7.0.8->spacy<2.2,>=2.1->chatterbot) (4.35.0)\n",
      "Requirement already satisfied: chardet<3.1.0,>=3.0.2 in c:\\users\\public\\anaconda3\\lib\\site-packages (from requests<3.0.0,>=2.13.0->spacy<2.2,>=2.1->chatterbot) (3.0.4)\n",
      "Requirement already satisfied: certifi>=2017.4.17 in c:\\users\\public\\anaconda3\\lib\\site-packages (from requests<3.0.0,>=2.13.0->spacy<2.2,>=2.1->chatterbot) (2020.4.5.1)\n",
      "Requirement already satisfied: urllib3<1.23,>=1.21.1 in c:\\users\\public\\anaconda3\\lib\\site-packages (from requests<3.0.0,>=2.13.0->spacy<2.2,>=2.1->chatterbot) (1.22)\n",
      "Requirement already satisfied: idna<2.7,>=2.5 in c:\\users\\public\\anaconda3\\lib\\site-packages (from requests<3.0.0,>=2.13.0->spacy<2.2,>=2.1->chatterbot) (2.6)\n",
      "Requirement already satisfied: zipp>=0.3.2 in c:\\users\\public\\anaconda3\\lib\\site-packages (from importlib-metadata; python_version < \"3.8\"->pint>=0.8.1->chatterbot) (0.3.3)\n",
      "Requirement already satisfied: pyparsing>=2.0.2 in c:\\users\\public\\anaconda3\\lib\\site-packages (from packaging->pint>=0.8.1->chatterbot) (2.3.1)\n",
      "Installing collected packages: srsly, wasabi, blis, thinc, spacy, pyyaml, pint, chatterbot\n",
      "  Found existing installation: thinc 6.12.1\n",
      "    Uninstalling thinc-6.12.1:\n",
      "      Successfully uninstalled thinc-6.12.1\n",
      "  Found existing installation: spacy 2.0.16\n",
      "    Uninstalling spacy-2.0.16:\n",
      "      Successfully uninstalled spacy-2.0.16\n",
      "  Found existing installation: PyYAML 5.1\n",
      "Note: you may need to restart the kernel to use updated packages.\n"
     ]
    },
    {
     "name": "stderr",
     "output_type": "stream",
     "text": [
      "Cannot uninstall 'PyYAML'. It is a distutils installed project and thus we cannot accurately determine which files belong to it which would lead to only a partial uninstall.\n"
     ]
    }
   ],
   "source": [
    "pip install chatterbot"
   ]
  },
  {
   "cell_type": "code",
   "execution_count": 5,
   "metadata": {},
   "outputs": [
    {
     "name": "stdout",
     "output_type": "stream",
     "text": [
      "Collecting chatterbot_corpus\n",
      "  Using cached https://files.pythonhosted.org/packages/ed/19/f8b41daf36fe4b0f43e283a820362ffdb2c1128600ab4ee187e84262fa4d/chatterbot_corpus-1.2.0-py2.py3-none-any.whl\n",
      "Collecting PyYAML<4.0,>=3.12 (from chatterbot_corpus)\n",
      "  Using cached https://files.pythonhosted.org/packages/bf/96/d02ef8e1f3073e07ffdc240444e5041f403f29c0775f9f1653f18221082f/PyYAML-3.13-cp37-cp37m-win_amd64.whl\n",
      "Installing collected packages: PyYAML, chatterbot-corpus\n",
      "  Found existing installation: PyYAML 5.1\n",
      "Note: you may need to restart the kernel to use updated packages.\n"
     ]
    },
    {
     "name": "stderr",
     "output_type": "stream",
     "text": [
      "Cannot uninstall 'PyYAML'. It is a distutils installed project and thus we cannot accurately determine which files belong to it which would lead to only a partial uninstall.\n"
     ]
    }
   ],
   "source": [
    "pip install chatterbot_corpus"
   ]
  },
  {
   "cell_type": "code",
   "execution_count": 6,
   "metadata": {},
   "outputs": [
    {
     "name": "stdout",
     "output_type": "stream",
     "text": [
      "Requirement already satisfied: spacy in c:\\users\\public\\anaconda3\\lib\\site-packages (2.1.9)\n",
      "Requirement already satisfied: wasabi<1.1.0,>=0.2.0 in c:\\users\\public\\anaconda3\\lib\\site-packages (from spacy) (0.8.2)\n",
      "Requirement already satisfied: blis<0.3.0,>=0.2.2 in c:\\users\\public\\anaconda3\\lib\\site-packages (from spacy) (0.2.4)\n",
      "Requirement already satisfied: plac<1.0.0,>=0.9.6 in c:\\users\\public\\anaconda3\\lib\\site-packages (from spacy) (0.9.6)\n",
      "Requirement already satisfied: numpy>=1.15.0 in c:\\users\\public\\anaconda3\\lib\\site-packages (from spacy) (1.17.2)\n",
      "Requirement already satisfied: cymem<2.1.0,>=2.0.2 in c:\\users\\public\\anaconda3\\lib\\site-packages (from spacy) (2.0.2)\n",
      "Requirement already satisfied: preshed<2.1.0,>=2.0.1 in c:\\users\\public\\anaconda3\\lib\\site-packages (from spacy) (2.0.1)\n",
      "Requirement already satisfied: requests<3.0.0,>=2.13.0 in c:\\users\\public\\anaconda3\\lib\\site-packages (from spacy) (2.18.4)\n",
      "Requirement already satisfied: srsly<1.1.0,>=0.0.6 in c:\\users\\public\\anaconda3\\lib\\site-packages (from spacy) (1.0.5)\n",
      "Requirement already satisfied: murmurhash<1.1.0,>=0.28.0 in c:\\users\\public\\anaconda3\\lib\\site-packages (from spacy) (1.0.2)\n",
      "Requirement already satisfied: thinc<7.1.0,>=7.0.8 in c:\\users\\public\\anaconda3\\lib\\site-packages (from spacy) (7.0.8)\n",
      "Requirement already satisfied: urllib3<1.23,>=1.21.1 in c:\\users\\public\\anaconda3\\lib\\site-packages (from requests<3.0.0,>=2.13.0->spacy) (1.22)\n",
      "Requirement already satisfied: certifi>=2017.4.17 in c:\\users\\public\\anaconda3\\lib\\site-packages (from requests<3.0.0,>=2.13.0->spacy) (2020.4.5.1)\n",
      "Requirement already satisfied: chardet<3.1.0,>=3.0.2 in c:\\users\\public\\anaconda3\\lib\\site-packages (from requests<3.0.0,>=2.13.0->spacy) (3.0.4)\n",
      "Requirement already satisfied: idna<2.7,>=2.5 in c:\\users\\public\\anaconda3\\lib\\site-packages (from requests<3.0.0,>=2.13.0->spacy) (2.6)\n",
      "Requirement already satisfied: tqdm<5.0.0,>=4.10.0 in c:\\users\\public\\anaconda3\\lib\\site-packages (from thinc<7.1.0,>=7.0.8->spacy) (4.35.0)\n",
      "Note: you may need to restart the kernel to use updated packages.\n"
     ]
    }
   ],
   "source": [
    "pip install spacy"
   ]
  },
  {
   "cell_type": "code",
   "execution_count": 7,
   "metadata": {},
   "outputs": [
    {
     "ename": "SyntaxError",
     "evalue": "invalid syntax (<ipython-input-7-fc4d5d118d23>, line 1)",
     "output_type": "error",
     "traceback": [
      "\u001b[1;36m  File \u001b[1;32m\"<ipython-input-7-fc4d5d118d23>\"\u001b[1;36m, line \u001b[1;32m1\u001b[0m\n\u001b[1;33m    python -m spacy download en\u001b[0m\n\u001b[1;37m                  ^\u001b[0m\n\u001b[1;31mSyntaxError\u001b[0m\u001b[1;31m:\u001b[0m invalid syntax\n"
     ]
    }
   ],
   "source": [
    "python -m spacy download en"
   ]
  },
  {
   "cell_type": "code",
   "execution_count": null,
   "metadata": {},
   "outputs": [],
   "source": [
    "from chatterbot import ChatBot"
   ]
  },
  {
   "cell_type": "code",
   "execution_count": null,
   "metadata": {},
   "outputs": [],
   "source": [
    "try:\n",
    "    from googlesearch import search\n",
    "except ImportError: \n",
    "    print(\"No module named 'google' found\")\n",
    "  \n",
    "# to search\n",
    "query = \"Geeksforgeeks\"\n",
    "  \n",
    "for j in search(query, tld=\"co.in\", num=10, stop=10, pause=2):\n",
    "    print(\"Following are the results for \" + query + \" :\" + j)"
   ]
  },
  {
   "cell_type": "code",
   "execution_count": null,
   "metadata": {},
   "outputs": [],
   "source": []
  }
 ],
 "metadata": {
  "kernelspec": {
   "display_name": "Python 3",
   "language": "python",
   "name": "python3"
  },
  "language_info": {
   "codemirror_mode": {
    "name": "ipython",
    "version": 3
   },
   "file_extension": ".py",
   "mimetype": "text/x-python",
   "name": "python",
   "nbconvert_exporter": "python",
   "pygments_lexer": "ipython3",
   "version": "3.7.1"
  }
 },
 "nbformat": 4,
 "nbformat_minor": 2
}
