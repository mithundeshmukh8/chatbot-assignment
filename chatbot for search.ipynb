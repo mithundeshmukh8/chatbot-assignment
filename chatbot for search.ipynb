{
 "cells": [
  {
   "cell_type": "code",
   "execution_count": 1,
   "metadata": {},
   "outputs": [
    {
     "name": "stdout",
     "output_type": "stream",
     "text": [
      "Requirement already satisfied: beautifulsoup4 in c:\\users\\public\\anaconda3\\lib\\site-packages (4.7.1)\n",
      "Requirement already satisfied: soupsieve>=1.2 in c:\\users\\public\\anaconda3\\lib\\site-packages (from beautifulsoup4) (1.8)\n",
      "Note: you may need to restart the kernel to use updated packages.\n"
     ]
    }
   ],
   "source": [
    "pip install beautifulsoup4"
   ]
  },
  {
   "cell_type": "code",
   "execution_count": 2,
   "metadata": {},
   "outputs": [
    {
     "name": "stdout",
     "output_type": "stream",
     "text": [
      "Requirement already satisfied: google in c:\\users\\public\\anaconda3\\lib\\site-packages (3.0.0)\n",
      "Requirement already satisfied: beautifulsoup4 in c:\\users\\public\\anaconda3\\lib\\site-packages (from google) (4.7.1)\n",
      "Requirement already satisfied: soupsieve>=1.2 in c:\\users\\public\\anaconda3\\lib\\site-packages (from beautifulsoup4->google) (1.8)\n",
      "Note: you may need to restart the kernel to use updated packages.\n"
     ]
    }
   ],
   "source": [
    "pip install google"
   ]
  },
  {
   "cell_type": "code",
   "execution_count": 5,
   "metadata": {},
   "outputs": [
    {
     "name": "stdout",
     "output_type": "stream",
     "text": [
      "Enter Your Name: Mithun\n",
      "Welcome to Chatbot Service! Let me know how can I help you\n",
      "Mithun:priti\n",
      "https://en.wikipedia.org/wiki/Priti_Patel\n",
      "https://en.wikipedia.org/wiki/Indians_in_Uganda\n",
      "https://en.wikipedia.org/wiki/Referendum_Party\n",
      "https://en.wikipedia.org/wiki/Witham_(UK_Parliament_constituency)\n",
      "https://en.wikipedia.org/wiki/Keele_University\n",
      "https://twitter.com/pritipatel?ref_src=twsrc%5Egoogle%7Ctwcamp%5Eserp%7Ctwgr%5Eauthor\n",
      "https://twitter.com/pritipatel/status/1423316733406982145?ref_src=twsrc%5Egoogle%7Ctwcamp%5Eserp%7Ctwgr%5Etweet\n",
      "https://twitter.com/pritipatel/status/1421809287849025539?ref_src=twsrc%5Egoogle%7Ctwcamp%5Eserp%7Ctwgr%5Etweet\n",
      "https://twitter.com/pritipatel/status/1421783145544916993?ref_src=twsrc%5Egoogle%7Ctwcamp%5Eserp%7Ctwgr%5Etweet\n",
      "https://news.sky.com/story/priti-patel-visits-greece-for-discussions-with-counterparts-about-tackling-illegal-migration-12373198\n",
      "Mithun:bye\n",
      "Bot: Bye\n"
     ]
    }
   ],
   "source": [
    "name = input('Enter Your Name: ')\n",
    "print ('Welcome to Chatbot Service! Let me know how can I help you')\n",
    "while True:\n",
    "    \n",
    "    query = input(name+':')\n",
    "    \n",
    "    if query==\"Bye\" or query=='bye':\n",
    "        print('Bot: Bye')\n",
    "        break\n",
    "    else:\n",
    "        try:\n",
    "            from googlesearch import search\n",
    "        except ImportError: \n",
    "            print(\"No module named 'google' found\")\n",
    "        for j in search(query, tld=\"co.in\", num=10, stop=10, pause=2):\n",
    "            print(j)"
   ]
  },
  {
   "cell_type": "code",
   "execution_count": null,
   "metadata": {},
   "outputs": [],
   "source": []
  }
 ],
 "metadata": {
  "kernelspec": {
   "display_name": "Python 3",
   "language": "python",
   "name": "python3"
  },
  "language_info": {
   "codemirror_mode": {
    "name": "ipython",
    "version": 3
   },
   "file_extension": ".py",
   "mimetype": "text/x-python",
   "name": "python",
   "nbconvert_exporter": "python",
   "pygments_lexer": "ipython3",
   "version": "3.7.1"
  }
 },
 "nbformat": 4,
 "nbformat_minor": 2
}
